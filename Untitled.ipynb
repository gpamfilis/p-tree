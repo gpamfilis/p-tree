{
 "cells": [
  {
   "cell_type": "code",
   "execution_count": null,
   "metadata": {},
   "outputs": [],
   "source": [
    "from __future__ import division, unicode_literals, print_function  # for compatibility with Python 2 and 3\n",
    "\n",
    "import matplotlib as mpl\n",
    "import matplotlib.pyplot as plt\n",
    "\n",
    "# change the following to %matplotlib notebook for interactive plotting\n",
    "%matplotlib inline\n",
    "\n",
    "# Optionally, tweak styles.\n",
    "mpl.rc('figure',  figsize=(10, 6))\n",
    "mpl.rc('image', cmap='gray')"
   ]
  },
  {
   "cell_type": "raw",
   "metadata": {},
   "source": [
    "import numpy as np\n",
    "import pandas as pd\n",
    "from pandas import DataFrame, Series  # for convenience\n",
    "\n",
    "import pims\n",
    "import trackpy as tp"
   ]
  },
  {
   "cell_type": "raw",
   "metadata": {},
   "source": [
    "supported = {'png', 'png2x', 'retina', 'svg', 'pdf'}\n",
    "try:\n",
    "    from PIL import Image\n",
    "    supported = supported.union({'jpg', 'jpeg'})\n",
    "except:\n",
    "    print('shit')\n",
    "    pass "
   ]
  },
  {
   "cell_type": "raw",
   "metadata": {},
   "source": [
    "im = Image.open('./data/23584880_1946313725385290_1990266914_o.jpg')\n",
    "im.save('./data/Foto1.png')"
   ]
  },
  {
   "cell_type": "code",
   "execution_count": null,
   "metadata": {},
   "outputs": [],
   "source": [
    "frames = pims.ImageSequence('./data/imageedit_2_7224361676.png', as_grey=True)\n",
    "plt.figure()\n",
    "plt.imshow(frames[0]);"
   ]
  },
  {
   "cell_type": "raw",
   "metadata": {},
   "source": [
    "f = tp.locate(frames[0], 101, invert=True)\n",
    "f.head()"
   ]
  },
  {
   "cell_type": "raw",
   "metadata": {},
   "source": [
    "  # make a new figure\n",
    "tp.annotate(f, frames[0]);"
   ]
  },
  {
   "cell_type": "raw",
   "metadata": {},
   "source": [
    "from skimage import data, io, filters\n",
    "\n",
    "# image = data.coins()\n",
    "frames = pims.ImageSequence('./data/test1.png', as_grey=True)\n",
    "# ... or any other NumPy array!\n",
    "edges = filters.sobel(frames[0])\n",
    "io.imshow(edges)\n",
    "io.show()"
   ]
  },
  {
   "cell_type": "raw",
   "metadata": {},
   "source": [
    "from scipy import ndimage\n",
    "from skimage import morphology, util, filters\n",
    "\n",
    "\n",
    "def preprocess_foam(img):\n",
    "    \"\"\"\n",
    "    Apply image processing functions to return a binary image\n",
    "    \"\"\"\n",
    "    # Crop the pictures as for raw images.\n",
    "#     img = crop(img)\n",
    "    # Apply thresholds\n",
    "    img = filters.threshold_adaptive(img, 300)\n",
    "    threshold = 0.15\n",
    "    idx = img > img.max() * threshold\n",
    "    idx2 = img < img.max() * threshold\n",
    "    img[idx] = 0\n",
    "    img[idx2] = 255\n",
    "    # Dilatate to get a continous network\n",
    "    # of liquid films\n",
    "    img = ndimage.binary_dilation(img)\n",
    "    img = ndimage.binary_dilation(img)\n",
    "    return util.img_as_int(img)\n",
    "\n",
    "\n",
    "frames = pims.ImageSequence('./data/test1.png', process_func=preprocess_foam)\n",
    "plt.imshow(frames[0]);"
   ]
  },
  {
   "cell_type": "code",
   "execution_count": null,
   "metadata": {},
   "outputs": [],
   "source": [
    "from PIL import Image"
   ]
  },
  {
   "cell_type": "code",
   "execution_count": null,
   "metadata": {},
   "outputs": [],
   "source": [
    "import pims"
   ]
  },
  {
   "cell_type": "code",
   "execution_count": null,
   "metadata": {},
   "outputs": [],
   "source": [
    "import numpy as np\n",
    "import matplotlib.pyplot as plt\n",
    "from scipy import ndimage as ndi\n",
    "\n",
    "from skimage import feature\n",
    "\n",
    "im = pims.ImageSequence('./data/test2.png', as_grey=True)[0]"
   ]
  },
  {
   "cell_type": "code",
   "execution_count": null,
   "metadata": {},
   "outputs": [],
   "source": []
  },
  {
   "cell_type": "code",
   "execution_count": null,
   "metadata": {},
   "outputs": [],
   "source": []
  },
  {
   "cell_type": "code",
   "execution_count": null,
   "metadata": {},
   "outputs": [],
   "source": [
    "import cv2\n",
    "import numpy as np\n",
    "\n",
    "img = cv2.imread('./data/test2.png',0)\n",
    "img = cv2.medianBlur(img,5)\n",
    "cimg = cv2.cvtColor(img,cv2.COLOR_GRAY2BGR)\n",
    "\n",
    "circles = cv2.HoughCircles(img,cv2.HOUGH_GRADIENT,1,20,\n",
    "                            param1=50,param2=30,minRadius=0,maxRadius=0)\n",
    "\n",
    "circles = np.uint16(np.around(circles))\n",
    "for i in circles[0,:]:\n",
    "    # draw the outer circle\n",
    "    cv2.circle(cimg,(i[0],i[1]),i[2],(0,255,0),2)\n",
    "    # draw the center of the circle\n",
    "    cv2.circle(cimg,(i[0],i[1]),2,(0,0,255),3)\n",
    "\n",
    "cv2.imshow('detected circles',cimg)\n",
    "cv2.waitKey(0)\n",
    "cv2.destroyAllWindows()"
   ]
  },
  {
   "cell_type": "code",
   "execution_count": null,
   "metadata": {},
   "outputs": [],
   "source": [
    "edges1 = feature.canny(im, sigma=1)\n",
    "edges2 = feature.canny(im, sigma=2)\n",
    "\n",
    "# display results\n",
    "fig, (ax1, ax2, ax3) = plt.subplots(nrows=1, ncols=3, figsize=(20, 10),\n",
    "                                    sharex=True, sharey=True)\n",
    "\n",
    "ax1.imshow(im, cmap=plt.cm.gray)\n",
    "ax1.axis('off')\n",
    "ax1.set_title('noisy image', fontsize=20)\n",
    "\n",
    "ax2.imshow(edges1, cmap=plt.cm.gray)\n",
    "ax2.axis('off')\n",
    "ax2.set_title('Canny filter, $\\sigma=1$', fontsize=20)\n",
    "\n",
    "plt.imshow(edges1, cmap=plt.cm.gray)\n",
    "ax3.axis('off')\n",
    "ax3.set_title('Canny filter, $\\sigma=3$', fontsize=20)\n",
    "\n",
    "fig.tight_layout()\n",
    "\n",
    "plt.show()\n",
    "# ax3.savefig('./d.png')"
   ]
  },
  {
   "cell_type": "code",
   "execution_count": null,
   "metadata": {},
   "outputs": [],
   "source": []
  },
  {
   "cell_type": "code",
   "execution_count": null,
   "metadata": {},
   "outputs": [],
   "source": [
    "import numpy as np\n",
    "import matplotlib.pyplot as plt\n",
    "\n",
    "from skimage import data, color\n",
    "from skimage.transform import hough_circle, hough_circle_peaks\n",
    "from skimage.feature import canny\n",
    "from skimage.draw import circle_perimeter\n",
    "from skimage.util import img_as_ubyte"
   ]
  },
  {
   "cell_type": "code",
   "execution_count": null,
   "metadata": {},
   "outputs": [],
   "source": [
    "colony_color = (186,165,131)"
   ]
  },
  {
   "cell_type": "code",
   "execution_count": null,
   "metadata": {},
   "outputs": [],
   "source": [
    "# Load picture and detect edges\n",
    "# image = img_as_ubyte(data.coins()[160:230, 70:270])\n",
    "image = pims.ImageSequence('dt110507dhct_frame2.png', as_grey=True)[0]\n",
    "\n",
    "edges = canny(image, sigma=2, \n",
    "              low_threshold=20, high_threshold=30)\n",
    "\n",
    "# Detect two radii\n",
    "hough_radii = np.arange(10, 40, 2)\n",
    "\n",
    "hough_res = hough_circle(edges, hough_radii)\n",
    "\n",
    "# Select the most prominent 5 circles\n",
    "accums, cx, cy, radii = hough_circle_peaks(hough_res, hough_radii, total_num_peaks=10 ,min_xdistance=10)\n",
    "\n",
    "# Draw them\n",
    "fig, ax = plt.subplots(ncols=1, nrows=1, figsize=(20, 20))\n",
    "image = color.gray2rgb(image)\n",
    "c = 0\n",
    "for center_y, center_x, radius in zip(cy, cx, radii):\n",
    "    circy, circx = circle_perimeter(center_y, center_x, 10)\n",
    "    image[circy, circx] = (220, 20, 20)\n",
    "    c+=1\n",
    "#     if c>=60:\n",
    "#         print(c)\n",
    "#         break\n",
    "ax.imshow(image, cmap=plt.cm.gray)\n",
    "# from matplotlib.ticker import MultipleLocator, FormatStrFormatter\n",
    "\n",
    "# majorLocator = MultipleLocator(20)\n",
    "# majorFormatter = FormatStrFormatter('%d')\n",
    "# minorLocator = MultipleLocator(5)\n",
    "# ax.xaxis.set_major_locator(majorLocator)\n",
    "# ax.xaxis.set_major_formatter(majorFormatter)\n",
    "# # ax.xaxis.set_minor_locator(minorLocator)\n",
    "# ax.yaxis.set_major_locator(majorLocator)\n",
    "# ax.yaxis.set_major_formatter(majorFormatter)\n",
    "# # ax.yaxis.set_minor_locator(minorLocator)\n",
    "\n",
    "plt.show()"
   ]
  },
  {
   "cell_type": "code",
   "execution_count": null,
   "metadata": {},
   "outputs": [],
   "source": [
    "import pandas as pd"
   ]
  },
  {
   "cell_type": "code",
   "execution_count": null,
   "metadata": {},
   "outputs": [],
   "source": []
  },
  {
   "cell_type": "code",
   "execution_count": null,
   "metadata": {},
   "outputs": [],
   "source": []
  },
  {
   "cell_type": "code",
   "execution_count": null,
   "metadata": {},
   "outputs": [],
   "source": []
  },
  {
   "cell_type": "markdown",
   "metadata": {},
   "source": [
    "### center_x"
   ]
  },
  {
   "cell_type": "code",
   "execution_count": null,
   "metadata": {
    "scrolled": true
   },
   "outputs": [],
   "source": [
    "len(image)"
   ]
  },
  {
   "cell_type": "code",
   "execution_count": null,
   "metadata": {},
   "outputs": [],
   "source": [
    "import os"
   ]
  },
  {
   "cell_type": "code",
   "execution_count": null,
   "metadata": {},
   "outputs": [],
   "source": [
    "import math"
   ]
  },
  {
   "cell_type": "code",
   "execution_count": null,
   "metadata": {},
   "outputs": [],
   "source": [
    "def long_slice(image_path, out_name, outdir, slice_size):\n",
    "    \"\"\"slice an image into parts slice_size tall\"\"\"\n",
    "    img = Image.open(image_path)\n",
    "    width, height = img.size\n",
    "    upper = 0\n",
    "    left = 0\n",
    "    slices = int(math.ceil(height/slice_size))\n",
    "\n",
    "    count = 1\n",
    "    for slice in range(slices):\n",
    "        #if we are at the end, set the lower bound to be the bottom of the image\n",
    "        if count == slices:\n",
    "            lower = height\n",
    "        else:\n",
    "            lower = int(count * slice_size)  \n",
    "\n",
    "        bbox = (left, upper, width, lower)\n",
    "        working_slice = img.crop(bbox)\n",
    "        upper += slice_size\n",
    "        #save the slice\n",
    "        working_slice.save(os.path.join(outdir, \"slice_\" + out_name + \"_\" + str(count)+\".png\"))\n",
    "        count +=1\n",
    "\n",
    "if __name__ == '__main__':\n",
    "    long_slice(\"./data/test3.png\",\"longcat\", os.getcwd(), 400)"
   ]
  },
  {
   "cell_type": "code",
   "execution_count": null,
   "metadata": {},
   "outputs": [],
   "source": []
  },
  {
   "cell_type": "code",
   "execution_count": null,
   "metadata": {},
   "outputs": [],
   "source": [
    "i = Image.open('./data/test2.png')\n",
    "plt.imshow(i)"
   ]
  },
  {
   "cell_type": "code",
   "execution_count": null,
   "metadata": {},
   "outputs": [],
   "source": [
    "i = Image.open('./data/test2.png')\n",
    "\n",
    "size = i.size\n",
    "h = i.size[0]\n",
    "w = i.size[0]\n",
    "\n",
    "quadrant_crops = [(0, 0, int(w/2), int(h/2)),(int(w/2), 0, w, int(h/2)),(int(w/2), int(h/2), w, h),(0, int(h/2),int(w/2), h)]\n",
    "\n",
    "\n",
    "for j in range(len(quadrant_crops)):\n",
    "    quadrant = i.crop(quadrant_crops[j])\n",
    "    quadrant.save('Q'+str(j)+'.png')\n",
    "# plt.imshow(quadrant)"
   ]
  },
  {
   "cell_type": "code",
   "execution_count": null,
   "metadata": {
    "scrolled": false
   },
   "outputs": [],
   "source": [
    "# Load picture and detect edges\n",
    "# image = img_as_ubyte(data.coins()[160:230, 70:270])\n",
    "colonies = 0\n",
    "for j in range(len(quadrant_crops)):\n",
    "\n",
    "    image = pims.ImageSequence('./Q'+str(j)+'.png', as_grey=True)[0]\n",
    "\n",
    "    edges = canny(image, sigma=2, \n",
    "                  low_threshold=20, high_threshold=30)\n",
    "\n",
    "    # Detect two radii\n",
    "    hough_radii = np.arange(10, 30, 2)\n",
    "\n",
    "    hough_res = hough_circle(edges, hough_radii)\n",
    "\n",
    "    # Select the most prominent 5 circles\n",
    "    accums, cx, cy, radii = hough_circle_peaks(hough_res, hough_radii, total_num_peaks=60)\n",
    "\n",
    "    # Draw them\n",
    "    fig, ax = plt.subplots(ncols=1, nrows=1, figsize=(20, 20))\n",
    "    image = color.gray2rgb(image)\n",
    "    c = 0\n",
    "    for center_y, center_x, radius in zip(cy, cx, radii):\n",
    "        circy, circx = circle_perimeter(center_y, center_x, 10)\n",
    "        image[circy, circx] = (220, 20, 20)\n",
    "        c+=1\n",
    "#         if c>=200:\n",
    "#             print(c)\n",
    "#             break\n",
    "    ax.imshow(image, cmap=plt.cm.gray)\n",
    "    # from matplotlib.ticker import MultipleLocator, FormatStrFormatter\n",
    "\n",
    "    # majorLocator = MultipleLocator(20)\n",
    "    # majorFormatter = FormatStrFormatter('%d')\n",
    "    # minorLocator = MultipleLocator(5)\n",
    "    # ax.xaxis.set_major_locator(majorLocator)\n",
    "    # ax.xaxis.set_major_formatter(majorFormatter)\n",
    "    # # ax.xaxis.set_minor_locator(minorLocator)\n",
    "    # ax.yaxis.set_major_locator(majorLocator)\n",
    "    # ax.yaxis.set_major_formatter(majorFormatter)\n",
    "    # # ax.yaxis.set_minor_locator(minorLocator)\n",
    "    df = pd.DataFrame(list(zip(cx,cy)),columns =['x','y'])\n",
    "\n",
    "    plt.scatter(df.x,df.y)\n",
    "\n",
    "    df=df.sort_values(by=['x'])\n",
    "\n",
    "    dfdiff = df.diff()\n",
    "\n",
    "    colonies+=dfdiff[dfdiff.x>2].shape[0]\n",
    "print(colonies)\n",
    "# plt.show()"
   ]
  },
  {
   "cell_type": "code",
   "execution_count": null,
   "metadata": {},
   "outputs": [],
   "source": []
  },
  {
   "cell_type": "code",
   "execution_count": null,
   "metadata": {},
   "outputs": [],
   "source": [
    "plt.imshow(frame1)"
   ]
  },
  {
   "cell_type": "raw",
   "metadata": {},
   "source": [
    "frame1.save('Q1.png')"
   ]
  },
  {
   "cell_type": "code",
   "execution_count": null,
   "metadata": {},
   "outputs": [],
   "source": [
    "i = Image.open('dt110507dhct_frame2.png')\n",
    "plt.imshow(i)"
   ]
  },
  {
   "cell_type": "code",
   "execution_count": null,
   "metadata": {},
   "outputs": [],
   "source": []
  },
  {
   "cell_type": "code",
   "execution_count": null,
   "metadata": {},
   "outputs": [],
   "source": []
  },
  {
   "cell_type": "code",
   "execution_count": null,
   "metadata": {},
   "outputs": [],
   "source": []
  },
  {
   "cell_type": "code",
   "execution_count": null,
   "metadata": {},
   "outputs": [],
   "source": []
  },
  {
   "cell_type": "code",
   "execution_count": null,
   "metadata": {},
   "outputs": [],
   "source": [
    "from skimage import data, io, filters\n",
    "plt.figure( figsize=(20, 10))\n",
    "frames = pims.ImageSequence('./slice_longcat_1.png', as_grey=True)\n",
    "edges = filters.sobel(frames[0])\n",
    "io.imshow(edges)\n",
    "io.show()"
   ]
  },
  {
   "cell_type": "code",
   "execution_count": null,
   "metadata": {},
   "outputs": [],
   "source": []
  },
  {
   "cell_type": "code",
   "execution_count": null,
   "metadata": {},
   "outputs": [],
   "source": []
  }
 ],
 "metadata": {
  "kernelspec": {
   "display_name": "Python 3",
   "language": "python",
   "name": "python3"
  },
  "language_info": {
   "codemirror_mode": {
    "name": "ipython",
    "version": 3
   },
   "file_extension": ".py",
   "mimetype": "text/x-python",
   "name": "python",
   "nbconvert_exporter": "python",
   "pygments_lexer": "ipython3",
   "version": "3.6.2"
  }
 },
 "nbformat": 4,
 "nbformat_minor": 2
}
